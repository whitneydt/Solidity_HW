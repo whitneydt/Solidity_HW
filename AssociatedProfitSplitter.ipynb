{
 "cells": [
  {
   "cell_type": "markdown",
   "id": "e4fb2256-d894-4e9d-9f21-98dcebf2cddd",
   "metadata": {},
   "source": [
    "pragma solidity ^0.5.0;\n",
    "\n",
    "// lvl 1: equal split\n",
    "contract AssociateProfitSplitter {\n",
    "    // @TODO: Create three payable addresses representing `employee_one`, `employee_two` and `employee_three`.\n",
    "    \n",
    "    address payable employee_one;\n",
    "    address payable employee_two;\n",
    "    address payable employee_three;\n",
    "    \n",
    "    constructor(address payable _one, address payable _two, address payable _three) public {\n",
    "        employee_one = _one;\n",
    "        employee_two = _two;\n",
    "        employee_three = _three;\n",
    "    }\n",
    "\n",
    "    function balance() public view returns(uint) {\n",
    "        return address(this).balance;\n",
    "    }\n",
    "\n",
    "    function deposit() public payable {\n",
    "        // @TODO: Split `msg.value` into three\n",
    "        \n",
    "        uint amount = msg.value/3;\n",
    "\n",
    "        // @TODO: Transfer the amount to each employee\n",
    "\n",
    "        employee_one.transfer(amount);\n",
    "        employee_two.transfer(amount);\n",
    "        employee_three.transfer(amount);\n",
    "        \n",
    "        // @TODO: take care of a potential remainder by sending back to HR (`msg.sender`)\n",
    "        // Your code here!\n",
    "        \n",
    "        msg.sender.transfer(msg.value-amount*3);\n",
    "        \n",
    "    }\n",
    "\n",
    "    function() external payable {\n",
    "        // @TODO: Enforce that the `deposit` function is called in the fallback function!\n",
    "        \n",
    "        deposit();\n",
    "    }\n",
    "}"
   ]
  },
  {
   "cell_type": "code",
   "execution_count": null,
   "id": "e3b68c4e-f41b-4f6e-a303-5cf507f22fe4",
   "metadata": {},
   "outputs": [],
   "source": []
  }
 ],
 "metadata": {
  "kernelspec": {
   "display_name": "Python 3",
   "language": "python",
   "name": "python3"
  },
  "language_info": {
   "codemirror_mode": {
    "name": "ipython",
    "version": 3
   },
   "file_extension": ".py",
   "mimetype": "text/x-python",
   "name": "python",
   "nbconvert_exporter": "python",
   "pygments_lexer": "ipython3",
   "version": "3.8.2"
  }
 },
 "nbformat": 4,
 "nbformat_minor": 5
}
